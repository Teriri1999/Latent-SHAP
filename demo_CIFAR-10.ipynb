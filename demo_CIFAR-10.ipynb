{
 "cells": [
  {
   "cell_type": "code",
   "execution_count": 1,
   "id": "2e89a9b2-70a7-412c-b4db-771f26fc91ac",
   "metadata": {},
   "outputs": [],
   "source": [
    "import os\n",
    "import torch\n",
    "import torchvision\n",
    "import torchvision.transforms as transforms\n",
    "import torch.nn.functional as F\n",
    "from torch.utils.data import Dataset\n",
    "\n",
    "import matplotlib.pyplot as plt\n",
    "import gc\n",
    "from tqdm import tqdm\n",
    "from captum.attr import KernelShap\n",
    "import cv2\n",
    "\n",
    "import shap\n",
    "import numpy as np\n",
    "from PIL import Image\n",
    "import time\n",
    "\n",
    "from model import Generator\n",
    "from models import *\n",
    "from combine_model import AlexNetMNIST, CombinedModel\n",
    "from shapmap import shap_mapping\n",
    "from utils import make_image, generate_heatmap, generate_color_heatmap"
   ]
  },
  {
   "cell_type": "code",
   "execution_count": 2,
   "id": "18765dd6-8617-4e9c-b1f6-d5b37fbf519d",
   "metadata": {},
   "outputs": [
    {
     "name": "stdout",
     "output_type": "stream",
     "text": [
      "Using device: cuda\n"
     ]
    }
   ],
   "source": [
    "device = torch.device(\"cuda\" if torch.cuda.is_available() else \"cpu\")\n",
    "print(\"Using device:\", device)"
   ]
  },
  {
   "cell_type": "code",
   "execution_count": 3,
   "id": "d13f46ac-404f-4f27-a6b6-91f07bff7055",
   "metadata": {},
   "outputs": [],
   "source": [
    "img_path = \"test_sample/image/test.png\"\n",
    "latent_path = \"test_sample/latent_code/test.pth\"\n",
    "sample = torch.load(latent_path)\n",
    "sample.requires_grad = True"
   ]
  },
  {
   "cell_type": "code",
   "execution_count": 4,
   "id": "c8007903-fbe8-44a8-b7b0-15a1bd75c6c1",
   "metadata": {},
   "outputs": [],
   "source": [
    "gan_path = \"GAN_checkpoint/256_200000.pt\"\n",
    "g_ema = Generator(32, 256, 8)\n",
    "g_ema.load_state_dict(torch.load(gan_path)[\"g_ema\"], strict=False)\n",
    "g_ema.eval()\n",
    "g_ema = g_ema.to(device)"
   ]
  },
  {
   "cell_type": "code",
   "execution_count": 5,
   "id": "3a5e2898-47ff-417d-9008-c50ba8fe9434",
   "metadata": {},
   "outputs": [
    {
     "data": {
      "text/plain": [
       "<All keys matched successfully>"
      ]
     },
     "execution_count": 5,
     "metadata": {},
     "output_type": "execute_result"
    }
   ],
   "source": [
    "model = VGG('VGG19')\n",
    "model.to(device)\n",
    "model_path = 'cifar_checkpoint/ckpt_vgg.pth'\n",
    "\n",
    "from collections import OrderedDict\n",
    "checkpoint = torch.load(model_path, map_location=device)\n",
    "\n",
    "state_dict = checkpoint['net']\n",
    "new_state_dict = OrderedDict()\n",
    "for k, v in state_dict.items():\n",
    "    name = k[7:] if k.startswith(\"module.\") else k \n",
    "    new_state_dict[name] = v\n",
    "\n",
    "model.load_state_dict(new_state_dict, strict=False)"
   ]
  },
  {
   "cell_type": "code",
   "execution_count": 6,
   "id": "a036783b-dc15-4306-b1e9-c73cdf529793",
   "metadata": {},
   "outputs": [],
   "source": [
    "transform = transforms.Compose([\n",
    "    transforms.ToTensor(),\n",
    "    transforms.Normalize((0.4914, 0.4822, 0.4465), (0.2023, 0.1994, 0.2010)),\n",
    "])\n",
    "\n",
    "normalize = transforms.Normalize((0.4914, 0.4822, 0.4465), (0.2023, 0.1994, 0.2010))\n",
    "\n",
    "image = Image.open(img_path)\n",
    "image_np = np.array(image)\n",
    "image_tensor = transform(image).unsqueeze(0).to(device)"
   ]
  },
  {
   "cell_type": "code",
   "execution_count": 7,
   "id": "9d4491fb-839f-4286-accc-46554144c916",
   "metadata": {},
   "outputs": [
    {
     "name": "stdout",
     "output_type": "stream",
     "text": [
      "Prob tensor([[ 0.1271, -0.4311, -1.4141, -1.5559, -1.3191, -1.1549, -1.1080, -1.4577,\n",
      "         -1.0992,  9.4812]], device='cuda:0', grad_fn=<AddmmBackward0>)\n"
     ]
    }
   ],
   "source": [
    "model.eval()\n",
    "output = model(image_tensor)\n",
    "target = int(output.argmax().detach().cpu().numpy())\n",
    "print('Prob', output)"
   ]
  },
  {
   "cell_type": "code",
   "execution_count": 8,
   "id": "2670a096-9b31-4ce1-a339-741632880498",
   "metadata": {},
   "outputs": [],
   "source": [
    "combined_model = CombinedModel(g_ema, model, transform)\n",
    "combined_model = combined_model.to(device)"
   ]
  },
  {
   "cell_type": "code",
   "execution_count": 9,
   "id": "cd5477eb-9862-4369-9201-f54aa0b0bfe3",
   "metadata": {},
   "outputs": [
    {
     "data": {
      "application/vnd.jupyter.widget-view+json": {
       "model_id": "e78cab4e059f4290b8679664947f281b",
       "version_major": 2,
       "version_minor": 0
      },
      "text/plain": [
       "Kernel Shap attribution:   0%|          | 0/1000 [00:00<?, ?it/s]"
      ]
     },
     "metadata": {},
     "output_type": "display_data"
    }
   ],
   "source": [
    "ks = KernelShap(combined_model)\n",
    "n_samples = 1000\n",
    "attributions = ks.attribute(sample, target=target, n_samples=n_samples, show_progress=True)"
   ]
  },
  {
   "cell_type": "code",
   "execution_count": 10,
   "id": "b8bb809d-dc85-427d-9da5-8101e9c337fd",
   "metadata": {},
   "outputs": [
    {
     "name": "stderr",
     "output_type": "stream",
     "text": [
      "100%|██████████████████████████████████████████████████████████████████████████████████| 32/32 [01:39<00:00,  3.11s/it]\n"
     ]
    }
   ],
   "source": [
    "map = shap_mapping(g_ema, image, sample, input_is_latent=True)\n",
    "map = map.to(device)"
   ]
  },
  {
   "cell_type": "code",
   "execution_count": 11,
   "id": "78182813-9a7c-4fb3-8b51-fedadca94b7b",
   "metadata": {},
   "outputs": [],
   "source": [
    "attributions = attributions.view(256, 1, 1, 1)\n",
    "attributions[attributions < 0] = 0\n",
    "\n",
    "fusion_shap = attributions * map"
   ]
  },
  {
   "cell_type": "code",
   "execution_count": 12,
   "id": "8f32f9e7-98b1-4ac7-bff7-ec9a9c17582a",
   "metadata": {},
   "outputs": [],
   "source": [
    "fusion_max = fusion_shap.max()\n",
    "fusion_min = fusion_shap.min()\n",
    "fusion_norm = (fusion_shap - fusion_min) / (fusion_max - fusion_min)\n",
    "Shapley = fusion_norm.mean(dim=0)\n",
    "img_ar = make_image(Shapley.unsqueeze(0))"
   ]
  },
  {
   "cell_type": "code",
   "execution_count": 13,
   "id": "31653fed-b1b6-45a1-899c-706e45f42275",
   "metadata": {},
   "outputs": [],
   "source": [
    "backgroud_set = torchvision.datasets.ImageFolder(root=\"background\", transform=transform)\n",
    "background_loader = torch.utils.data.DataLoader(backgroud_set, batch_size=330,shuffle=True)\n",
    "classes = backgroud_set.classes\n",
    "\n",
    "background_dataiter = iter(background_loader)\n",
    "b_images, b_labels = next(background_dataiter)\n",
    "\n",
    "b_images = b_images.to((device))\n",
    "b_labels = b_labels.to((device))"
   ]
  },
  {
   "cell_type": "code",
   "execution_count": 14,
   "id": "f0448d64-6089-4cc0-a8dd-6290b442b8f2",
   "metadata": {},
   "outputs": [],
   "source": [
    "image = Image.open(img_path)\n",
    "image = transform(image)\n",
    "image = image.unsqueeze(0)\n",
    "image = image.to(device)\n",
    "\n",
    "model.eval()\n",
    "\n",
    "e = shap.GradientExplainer(model, b_images)\n",
    "shap_values = e.shap_values(image)\n",
    "shap_numpy_g = [np.swapaxes(np.swapaxes(s, 1, -1), 1, 2) for s in shap_values]"
   ]
  },
  {
   "cell_type": "code",
   "execution_count": 15,
   "id": "7921929a-7321-453f-8b87-8d48e3f47e72",
   "metadata": {},
   "outputs": [],
   "source": [
    "target_label = target\n",
    "gradient_shap = shap_numpy_g[target_label][0]\n",
    "gradient_shap = np.sum(gradient_shap, axis=2)\n",
    "gradient_shap = np.maximum(gradient_shap, 0)\n",
    "gradient_shap = cv2.resize(gradient_shap, (32, 32))\n",
    "\n",
    "latent_shap = img_ar[0, :, :, :]\n",
    "latent_shap = np.mean(latent_shap, 2)\n",
    "latent_shap = np.maximum(latent_shap, 0)\n",
    "latent_shap = cv2.resize(latent_shap, (32, 32))"
   ]
  },
  {
   "cell_type": "code",
   "execution_count": 16,
   "id": "6e2613da-2075-4f6b-bb62-5423aecdc0b0",
   "metadata": {},
   "outputs": [
    {
     "data": {
      "text/plain": [
       "(-0.5, 31.5, 31.5, -0.5)"
      ]
     },
     "execution_count": 16,
     "metadata": {},
     "output_type": "execute_result"
    },
    {
     "data": {
      "image/png": "[encoded data removed]",
      "text/plain": [
       "<Figure size 640x480 with 3 Axes>"
      ]
     },
     "metadata": {},
     "output_type": "display_data"
    }
   ],
   "source": [
    "plt.subplot(1, 3, 1)\n",
    "plt.imshow(image_np)\n",
    "plt.axis('off')\n",
    "plt.subplot(1, 3, 2)\n",
    "plt.imshow(gradient_shap)\n",
    "plt.axis('off')\n",
    "plt.subplot(1, 3, 3)\n",
    "plt.imshow(latent_shap)\n",
    "plt.axis('off')"
   ]
  },
  {
   "cell_type": "code",
   "execution_count": null,
   "id": "46015872-9dfe-4b1c-be96-39266b4b241d",
   "metadata": {},
   "outputs": [],
   "source": []
  }
 ],
 "metadata": {
  "kernelspec": {
   "display_name": "Python 3 (ipykernel)",
   "language": "python",
   "name": "python3"
  },
  "language_info": {
   "codemirror_mode": {
    "name": "ipython",
    "version": 3
   },
   "file_extension": ".py",
   "mimetype": "text/x-python",
   "name": "python",
   "nbconvert_exporter": "python",
   "pygments_lexer": "ipython3",
   "version": "3.8.18"
  }
 },
 "nbformat": 4,
 "nbformat_minor": 5
}
