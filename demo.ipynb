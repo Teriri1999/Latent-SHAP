{
 "cells": [
  {
   "cell_type": "code",
   "execution_count": 1,
   "id": "a02c6b87-213e-4dbc-a115-8832ce1860f9",
   "metadata": {},
   "outputs": [],
   "source": [
    "import os\n",
    "import torch\n",
    "import torchvision\n",
    "import torchvision.transforms as transforms\n",
    "import torch.nn.functional as F\n",
    "from torch.utils.data import Dataset\n",
    "\n",
    "import matplotlib.pyplot as plt\n",
    "import gc\n",
    "from tqdm import tqdm\n",
    "from captum.attr import KernelShap\n",
    "import cv2\n",
    "\n",
    "import shap\n",
    "import numpy as np\n",
    "from PIL import Image\n",
    "import time\n",
    "\n",
    "from model import Generator\n",
    "from combine_model import AlexNetMNIST, CombinedModel\n",
    "from utils import make_image, generate_heatmap, generate_color_heatmap"
   ]
  },
  {
   "cell_type": "code",
   "execution_count": 2,
   "id": "d1151ac5-8a8b-4242-9e47-00e73afadf42",
   "metadata": {},
   "outputs": [
    {
     "name": "stdout",
     "output_type": "stream",
     "text": [
      "Using device: cuda\n"
     ]
    }
   ],
   "source": [
    "device = torch.device(\"cuda\" if torch.cuda.is_available() else \"cpu\")\n",
    "print(\"Using device:\", device)"
   ]
  },
  {
   "cell_type": "code",
   "execution_count": 3,
   "id": "4f1f1da3-a963-4e81-92ec-ba5378b8f0eb",
   "metadata": {},
   "outputs": [],
   "source": [
    "img_path = \"E:/Latent SHAP github/test_sample/image/test.jpg\"\n",
    "latent_path = \"test_sample/latent_code/test.pth\"\n",
    "sample = torch.load(latent_path)\n",
    "sample.requires_grad = True"
   ]
  },
  {
   "cell_type": "code",
   "execution_count": 4,
   "id": "fb476ef3-2e1e-4939-9f40-17885b336cbf",
   "metadata": {},
   "outputs": [
    {
     "data": {
      "text/plain": [
       "<All keys matched successfully>"
      ]
     },
     "execution_count": 4,
     "metadata": {},
     "output_type": "execute_result"
    }
   ],
   "source": [
    "alexnet = AlexNetMNIST()\n",
    "alexnet.to(device)\n",
    "model_path = 'checkpoint/alexnet/mnist_model.pth'\n",
    "alexnet.load_state_dict(torch.load(model_path, map_location=torch.device(device)))"
   ]
  },
  {
   "cell_type": "code",
   "execution_count": 5,
   "id": "38261f47-cca1-45fe-9833-5bd7e563556b",
   "metadata": {},
   "outputs": [],
   "source": [
    "transform = transforms.Compose([\n",
    "    transforms.Grayscale(num_output_channels=1),\n",
    "    transforms.Resize((224, 224)),\n",
    "    transforms.ToTensor(),\n",
    "    transforms.Normalize((0.5,), (0.5,))\n",
    "])\n",
    "\n",
    "image = Image.open(img_path)\n",
    "image_tensor = transform(image).unsqueeze(0).to(device)"
   ]
  },
  {
   "cell_type": "code",
   "execution_count": 6,
   "id": "32c57ed3-8c52-41c7-8721-624981ce9beb",
   "metadata": {},
   "outputs": [
    {
     "name": "stdout",
     "output_type": "stream",
     "text": [
      "Prob tensor([[ 20.6294, -29.4004, -23.2256, -17.8429, -19.1856, -20.5424,  -5.3435,\n",
      "         -29.6415, -20.3315,  -8.3095]], device='cuda:0',\n",
      "       grad_fn=<AddmmBackward0>)\n"
     ]
    }
   ],
   "source": [
    "alexnet.eval()\n",
    "output = alexnet(image_tensor)\n",
    "target = int(output.argmax().detach().cpu().numpy())\n",
    "print('Prob', output)"
   ]
  },
  {
   "cell_type": "code",
   "execution_count": 7,
   "id": "42377758-92b6-4934-9c4c-e08da25e9189",
   "metadata": {},
   "outputs": [],
   "source": [
    "gan_path = \"GAN_checkpoint/pretrained.pt\"\n",
    "g_ema = Generator(32, 256, 8)\n",
    "g_ema.load_state_dict(torch.load(gan_path)[\"g_ema\"], strict=False)\n",
    "g_ema.eval()\n",
    "g_ema = g_ema.to(device)"
   ]
  },
  {
   "cell_type": "code",
   "execution_count": 8,
   "id": "b16e71ce-c189-438d-ac48-ead8d017fada",
   "metadata": {},
   "outputs": [],
   "source": [
    "combined_model = CombinedModel(g_ema, alexnet, transform)\n",
    "combined_model = combined_model.to(device)"
   ]
  },
  {
   "cell_type": "code",
   "execution_count": 9,
   "id": "b5ede34d-759c-4425-b70a-b9aef1de2436",
   "metadata": {},
   "outputs": [
    {
     "data": {
      "application/vnd.jupyter.widget-view+json": {
       "model_id": "a3eceb1fdaf0407da856cb6cf5b61087",
       "version_major": 2,
       "version_minor": 0
      },
      "text/plain": [
       "Kernel Shap attribution:   0%|          | 0/100 [00:00<?, ?it/s]"
      ]
     },
     "metadata": {},
     "output_type": "display_data"
    },
    {
     "name": "stdout",
     "output_type": "stream",
     "text": [
      "Execution time: 1.4569950103759766 seconds\n"
     ]
    }
   ],
   "source": [
    "start_time = time.time()\n",
    "ks = KernelShap(combined_model)\n",
    "n_samples = 100\n",
    "attributions = ks.attribute(sample, target=target, n_samples=n_samples, show_progress=True)\n",
    "end_time = time.time()\n",
    "\n",
    "execution_time = end_time - start_time\n",
    "print(f\"Execution time: {execution_time} seconds\")"
   ]
  },
  {
   "cell_type": "code",
   "execution_count": 10,
   "id": "01e5ad2c-21e8-495c-95a4-64eddb6106e5",
   "metadata": {},
   "outputs": [
    {
     "name": "stderr",
     "output_type": "stream",
     "text": [
      "100%|██████████████████████████████████████████████████████████████████████████████████| 32/32 [01:43<00:00,  3.22s/it]"
     ]
    },
    {
     "name": "stdout",
     "output_type": "stream",
     "text": [
      "torch.Size([256, 3, 17, 17]) torch.Size([1, 3, 32, 32])\n"
     ]
    },
    {
     "name": "stderr",
     "output_type": "stream",
     "text": [
      "\n"
     ]
    }
   ],
   "source": [
    "mapping = torch.zeros([256, 3, 32, 32])\n",
    "img_gen, _ = g_ema([sample], input_is_latent=False, noise=None, randomize_noise=False)\n",
    "\n",
    "for j in tqdm(range(32)):\n",
    "    for i in range(3):\n",
    "        for k in range(32):\n",
    "            pixel_value = img_gen[0, i, j, k].mean()\n",
    "            pixel_value.backward(retain_graph=True)\n",
    "            for l in range(256):\n",
    "                mapping[l, i, j, k] = sample.grad[0][l].clone()\n",
    "            sample.grad.zero_()\n",
    "\n",
    "image_np = np.array(image)\n",
    "image_tensor = image_np / 255\n",
    "image_tensor = np.transpose(image_tensor, (2, 0, 1))\n",
    "image_tensor = np.expand_dims(image_tensor, axis=0)\n",
    "\n",
    "threshold = 1\n",
    "\n",
    "image_tensor = torch.from_numpy(image_tensor)\n",
    "\n",
    "above_threshold = mapping > threshold\n",
    "\n",
    "pool_radius = 1\n",
    "kernel_size = 1 * pool_radius + 1\n",
    "max_pool = torch.nn.MaxPool2d(kernel_size, padding=pool_radius)\n",
    "activated_map = max_pool(above_threshold.float())\n",
    "print(activated_map.shape, image_tensor.shape)\n",
    "activated_map = F.interpolate(activated_map, size=(32, 32), mode='bilinear', align_corners=False)\n",
    "\n",
    "# result = activated_map.float() * image_tensor\n",
    "result = activated_map.float()\n",
    "map = result.to(device)"
   ]
  },
  {
   "cell_type": "code",
   "execution_count": 11,
   "id": "24e8b2b9-9396-41c2-add4-5f95a4083028",
   "metadata": {},
   "outputs": [],
   "source": [
    "attributions = attributions.view(256, 1, 1, 1)\n",
    "attributions[attributions < 0] = 0\n",
    "\n",
    "fusion_shap = attributions * map\n",
    "fusion_max = fusion_shap.max()\n",
    "fusion_min = fusion_shap.min()\n",
    "fusion_norm = (fusion_shap - fusion_min) / (fusion_max - fusion_min)\n",
    "Shapley = fusion_norm.mean(dim=0)\n",
    "img_ar = make_image(Shapley.unsqueeze(0))"
   ]
  },
  {
   "cell_type": "code",
   "execution_count": 12,
   "id": "ce0b1e18-d8e6-42dd-99d4-b82298709785",
   "metadata": {},
   "outputs": [],
   "source": [
    "backgroud_set = torchvision.datasets.ImageFolder(root=\"background\", transform=transform)\n",
    "background_loader = torch.utils.data.DataLoader(backgroud_set, batch_size=300,shuffle=True)\n",
    "classes = backgroud_set.classes\n",
    "\n",
    "background_dataiter = iter(background_loader)\n",
    "b_images, b_labels = next(background_dataiter)\n",
    "\n",
    "b_images = b_images.to((device))\n",
    "b_labels = b_labels.to((device))"
   ]
  },
  {
   "cell_type": "code",
   "execution_count": 13,
   "id": "9216425c-b89e-42de-9e6b-2e76949fca3f",
   "metadata": {},
   "outputs": [
    {
     "name": "stdout",
     "output_type": "stream",
     "text": [
      "Execution time: 2.6126177310943604 seconds\n"
     ]
    }
   ],
   "source": [
    "image = Image.open(img_path)\n",
    "image = transform(image)\n",
    "image = image.unsqueeze(0)\n",
    "image = image.to(device)\n",
    "\n",
    "start_time = time.time()\n",
    "alexnet.eval()\n",
    "\n",
    "e = shap.GradientExplainer(alexnet, b_images)\n",
    "shap_values = e.shap_values(image)\n",
    "shap_numpy_g = [np.swapaxes(np.swapaxes(s, 1, -1), 1, 2) for s in shap_values]\n",
    "\n",
    "end_time = time.time()\n",
    "execution_time = end_time - start_time\n",
    "\n",
    "print(f\"Execution time: {execution_time} seconds\")"
   ]
  },
  {
   "cell_type": "code",
   "execution_count": 14,
   "id": "931ec9ee-925d-416a-9aff-e9a53cbcb219",
   "metadata": {},
   "outputs": [
    {
     "name": "stderr",
     "output_type": "stream",
     "text": [
      "Using a non-full backward hook when the forward contains multiple autograd Nodes is deprecated and will be removed in future versions. This hook will be missing some grad_input. Please use register_full_backward_hook to get the documented behavior.\n"
     ]
    },
    {
     "name": "stdout",
     "output_type": "stream",
     "text": [
      "Execution time: 3.903348922729492 seconds\n"
     ]
    }
   ],
   "source": [
    "start_time = time.time()\n",
    "alexnet.eval()\n",
    "e = shap.DeepExplainer(alexnet, b_images)\n",
    "shap_values = e.shap_values(image)\n",
    "shap_numpy_d = [np.swapaxes(np.swapaxes(s, 1, -1), 1, 2) for s in shap_values]\n",
    "end_time = time.time()\n",
    "\n",
    "execution_time = end_time - start_time\n",
    "print(f\"Execution time: {execution_time} seconds\")"
   ]
  },
  {
   "cell_type": "code",
   "execution_count": 15,
   "id": "7b055d10-dcca-497f-8ce1-4eb2752fd354",
   "metadata": {},
   "outputs": [],
   "source": [
    "target_label = target\n",
    "gradient_shap = shap_numpy_g[target_label][0]\n",
    "gradient_shap = np.sum(gradient_shap, axis=2)\n",
    "gradient_shap = np.maximum(gradient_shap, 0)\n",
    "gradient_shap = cv2.resize(gradient_shap, (28, 28))\n",
    "\n",
    "deep_shap = shap_numpy_d[target_label][0]\n",
    "deep_shap = np.sum(deep_shap, axis=2)\n",
    "deep_shap = np.maximum(deep_shap, 0)\n",
    "deep_shap = cv2.resize(deep_shap, (28, 28))\n",
    "\n",
    "latent_shap = img_ar[0, :, :, :]\n",
    "latent_shap = np.mean(latent_shap, 2)\n",
    "latent_shap = np.maximum(latent_shap, 0)\n",
    "latent_shap = cv2.resize(latent_shap, (28, 28))\n",
    "# latent_shap = 255 * (fusion_map - fusion_map.min()) / (fusion_map.max() - fusion_map.min())"
   ]
  },
  {
   "cell_type": "code",
   "execution_count": 16,
   "id": "f0515990-926d-46a8-8b87-badbda5d15ae",
   "metadata": {},
   "outputs": [
    {
     "data": {
      "text/plain": [
       "(-0.5, 27.5, 27.5, -0.5)"
      ]
     },
     "execution_count": 16,
     "metadata": {},
     "output_type": "execute_result"
    },
    {
     "data": {
      "image/png": "[encoded data removed]",
      "text/plain": [
       "<Figure size 640x480 with 4 Axes>"
      ]
     },
     "metadata": {},
     "output_type": "display_data"
    }
   ],
   "source": [
    "plt.subplot(1, 4, 1)\n",
    "plt.imshow(image_np)\n",
    "plt.axis('off')\n",
    "plt.subplot(1, 4, 2)\n",
    "plt.imshow(gradient_shap)\n",
    "plt.axis('off')\n",
    "plt.subplot(1, 4, 3)\n",
    "plt.imshow(deep_shap)\n",
    "plt.axis('off')\n",
    "plt.subplot(1, 4, 4)\n",
    "plt.imshow(latent_shap)\n",
    "plt.axis('off')"
   ]
  },
  {
   "cell_type": "code",
   "execution_count": null,
   "id": "a8976b47-71dc-4d58-87db-686538cce956",
   "metadata": {},
   "outputs": [],
   "source": []
  }
 ],
 "metadata": {
  "kernelspec": {
   "display_name": "Python 3 (ipykernel)",
   "language": "python",
   "name": "python3"
  },
  "language_info": {
   "codemirror_mode": {
    "name": "ipython",
    "version": 3
   },
   "file_extension": ".py",
   "mimetype": "text/x-python",
   "name": "python",
   "nbconvert_exporter": "python",
   "pygments_lexer": "ipython3",
   "version": "3.8.18"
  }
 },
 "nbformat": 4,
 "nbformat_minor": 5
}
